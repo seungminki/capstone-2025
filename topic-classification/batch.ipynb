{
 "cells": [
  {
   "cell_type": "code",
   "execution_count": 2,
   "id": "6e83c3ab",
   "metadata": {},
   "outputs": [],
   "source": [
    "from settings import openai_token"
   ]
  },
  {
   "cell_type": "code",
   "execution_count": null,
   "id": "c1d2e4e5",
   "metadata": {},
   "outputs": [],
   "source": [
    "from openai import OpenAI\n",
    "\n",
    "client = OpenAI(api_key=openai_token)"
   ]
  },
  {
   "cell_type": "code",
   "execution_count": null,
   "id": "f8560935",
   "metadata": {},
   "outputs": [],
   "source": [
    "batch_input_file = client.files.create(\n",
    "  file=open(file_path, \"rb\"),\n",
    "  purpose=\"batch\"\n",
    ")\n",
    "\n",
    "batch_input_file_id = batch_input_file.id\n",
    "\n",
    "client.batches.create(\n",
    "    input_file_id=batch_input_file_id,\n",
    "    endpoint=\"/v1/chat/completions\",\n",
    "    completion_window=\"24h\",\n",
    "    metadata={\n",
    "      \"description\": \"nightly eval job\"\n",
    "    }\n",
    ")"
   ]
  },
  {
   "cell_type": "code",
   "execution_count": null,
   "id": "60072d32",
   "metadata": {},
   "outputs": [],
   "source": [
    "client.batches.retrieve(file_id).status"
   ]
  },
  {
   "cell_type": "code",
   "execution_count": null,
   "id": "d140f7a2",
   "metadata": {},
   "outputs": [],
   "source": [
    "client.batches.retrieve(file_id).errors"
   ]
  }
 ],
 "metadata": {
  "kernelspec": {
   "display_name": "Python 3",
   "language": "python",
   "name": "python3"
  },
  "language_info": {
   "codemirror_mode": {
    "name": "ipython",
    "version": 3
   },
   "file_extension": ".py",
   "mimetype": "text/x-python",
   "name": "python",
   "nbconvert_exporter": "python",
   "pygments_lexer": "ipython3",
   "version": "3.9.6"
  }
 },
 "nbformat": 4,
 "nbformat_minor": 5
}
